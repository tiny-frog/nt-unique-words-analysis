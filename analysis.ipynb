{
 "cells": [
  {
   "cell_type": "markdown",
   "metadata": {},
   "source": [
    "The purpose of this notebook is to look for unique words in different books of the New Testament. The goal is to find words that are unique to each book, with some exceptions- for example, we will compare the Pastorals to the rest of the Pauline corpus, and the Gospel of John to the rest of the Johannine corpus, etc. \n",
    "\n",
    "This will of course, be a very rough analysis, but it will give us a sense of the vocabulary of each book. It will also give us a sense of the vocabulary of each author, and how that vocabulary changes over time.\n",
    "\n",
    "We are using the Greek NT from [here](https://www.kaggle.com/datasets/prykon/greek-new-testament-textus-receptus-15501894):\n",
    "\n",
    "NOTE: You must have an API key to download the data. You can get a free one [here](https://www.kaggle.com/docs/api#getting-started-installation-&-authentication).\n",
    "Alternatively, you can download the data from [here](https://www.kaggle.com/datasets/prykon/greek-new-testament-textus-receptus-15501894) and put it in the `data` folder."
   ]
  },
  {
   "cell_type": "code",
   "execution_count": 1,
   "metadata": {},
   "outputs": [],
   "source": [
    "# Imports\n",
    "import kaggle\n",
    "import zipfile\n",
    "import os\n"
   ]
  },
  {
   "cell_type": "code",
   "execution_count": 2,
   "metadata": {},
   "outputs": [
    {
     "name": "stdout",
     "output_type": "stream",
     "text": [
      "Downloading greek-new-testament-textus-receptus-15501894.zip to c:\\Users\\green\\Documents\\Github\\nt-unique-words-analysis\n",
      "\n"
     ]
    },
    {
     "name": "stderr",
     "output_type": "stream",
     "text": [
      "\n",
      "  0%|          | 0.00/799k [00:00<?, ?B/s]\n",
      "100%|██████████| 799k/799k [00:00<00:00, 11.9MB/s]\n"
     ]
    }
   ],
   "source": [
    "#Download and unzip the dataset\n",
    "\n",
    "!kaggle datasets download -d prykon/greek-new-testament-textus-receptus-15501894\n",
    "\n",
    "with zipfile.ZipFile(\"greek-new-testament-textus-receptus-15501894.zip\",\"r\") as zip_ref:\n",
    "    zip_ref.extractall(\"data\")\n",
    "\n",
    "# Remove the zip file\n",
    "os.remove(\"greek-new-testament-textus-receptus-15501894.zip\")\n"
   ]
  },
  {
   "cell_type": "markdown",
   "metadata": {},
   "source": [
    "At this point, the data is in the form of a csv file, with each row containing a verse. We will need to do some preprocessing to get it into a form that is usable for our purposes."
   ]
  },
  {
   "cell_type": "code",
   "execution_count": null,
   "metadata": {},
   "outputs": [],
   "source": []
  }
 ],
 "metadata": {
  "kernelspec": {
   "display_name": "Python 3",
   "language": "python",
   "name": "python3"
  },
  "language_info": {
   "codemirror_mode": {
    "name": "ipython",
    "version": 3
   },
   "file_extension": ".py",
   "mimetype": "text/x-python",
   "name": "python",
   "nbconvert_exporter": "python",
   "pygments_lexer": "ipython3",
   "version": "3.11.6"
  }
 },
 "nbformat": 4,
 "nbformat_minor": 2
}
